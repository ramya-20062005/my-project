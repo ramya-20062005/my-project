{
 "cells": [
  {
   "cell_type": "code",
   "execution_count": null,
   "id": "add9440e-42ca-4577-a373-abd846aa9517",
   "metadata": {},
   "outputs": [],
   "source": [
    "import numpy as np                                \n",
    "import matplotlib.pyplot as plt                   \n",
    "import seaborn as sns                              \n",
    "\n",
    "\n",
    "import tensorflow as tf                            \n",
    "from tensorflow import keras                 \n",
    "\n",
    "from tensorflow.keras.models import Sequential     \n",
    "from tensorflow.keras.layers import Rescaling, GlobalAveragePooling2D\n",
    "from tensorflow.keras import layers, optimizers, callbacks \n",
    "\n",
    "\n",
    "from tensorflow.keras.applications import EfficientNetV2B2  \n",
    "\n",
    "\n",
    "from sklearn.utils.class_weight import compute_class_weight \n",
    "from sklearn.metrics import confusion_matrix, classification_report  \n",
    "\n",
    "\n",
    "import gradio as gr                                "
   ]
  }
 ],
 "metadata": {
  "kernelspec": {
   "display_name": "Python 3 (ipykernel)",
   "language": "python",
   "name": "python3"
  },
  "language_info": {
   "codemirror_mode": {
    "name": "ipython",
    "version": 3
   },
   "file_extension": ".py",
   "mimetype": "text/x-python",
   "name": "python",
   "nbconvert_exporter": "python",
   "pygments_lexer": "ipython3",
   "version": "3.12.7"
  }
 },
 "nbformat": 4,
 "nbformat_minor": 5
}
